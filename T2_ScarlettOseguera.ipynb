{
 "cells": [
  {
   "cell_type": "markdown",
   "metadata": {},
   "source": [
    "# Tarea2_SM\n",
    "Un resumen de 2 artículos donde se resalta la importancia de Python\n",
    "## Por qué Phyton es mejor que otros?\n",
    "Ahora en el mundo de la programación ha llegado Phyton de manera más sencilla demostrandole a todos que será más facil confiar en e. Que con el lenguaje que utilizan será casi imposible que los estudiantes, o cualquier persona que quiera aprender no lo haga.\n",
    "En este documento nos intenta demostrar como es que en Navidad de 1989 Guido van Rossum creo un sistema de programación en si sin saberlo, lo que el buscaba era que fuese un lenguaje facil y útil para así poder compartirlo y crear nuevas tecnologías. \n",
    "\n",
    "[Link de resumen](https://www.economist.com/science-and-technology/2018/07/19/python-has-brought-computer-programming-to-a-vast-new-audience)\n",
    "\n",
    "## Python is becoming the world’s most popular coding language\n",
    "\n",
    "En este documento nos muestra como es que phyton se está volviendo el más popular en el area tecnologica, esto debido a su facilidad de aprendizaje, aunque también sobre los alcances que esta teniendo en la progrfamación.\n",
    "Las dos principales ventajas del idioma son su simplicidad y flexibilidad. Su sintaxis sencilla y el uso de espacios con sangría hacen que sea fácil de aprender, leer y compartir. Sus ávidos practicantes, conocidos como Pythonistas, han subido 145.000 paquetes de software personalizados a un repositorio en línea. Estos cubren todo, desde el desarrollo de juegos hasta la astronomía, y se pueden instalar e insertar en un programa de Python en cuestión de segundos.\n",
    "\n",
    "[Link de resumen](https://www.economist.com/graphic-detail/2018/07/26/python-is-becoming-the-worlds-most-popular-coding-language)"
   ]
  },
  {
   "cell_type": "code",
   "execution_count": null,
   "metadata": {},
   "outputs": [],
   "source": []
  }
 ],
 "metadata": {
  "kernelspec": {
   "display_name": "Python 3",
   "language": "python",
   "name": "python3"
  },
  "language_info": {
   "codemirror_mode": {
    "name": "ipython",
    "version": 3
   },
   "file_extension": ".py",
   "mimetype": "text/x-python",
   "name": "python",
   "nbconvert_exporter": "python",
   "pygments_lexer": "ipython3",
   "version": "3.8.3"
  }
 },
 "nbformat": 4,
 "nbformat_minor": 4
}
